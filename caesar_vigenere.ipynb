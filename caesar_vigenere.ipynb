{
 "cells": [
  {
   "cell_type": "code",
   "execution_count": 2,
   "metadata": {},
   "outputs": [
    {
     "name": "stdout",
     "output_type": "stream",
     "text": [
      "Mã hóa: Khoor, Zruog!\n",
      "Giải mã: Hello, World!\n"
     ]
    }
   ],
   "source": [
    "def caesar_cipher(text, shift):\n",
    "    encrypted_text = \"\"\n",
    "    for char in text:\n",
    "        if char.isalpha():\n",
    "            # Xác định vị trí của ký tự trong bảng chữ cái\n",
    "            is_upper = char.isupper()\n",
    "            char = char.lower()\n",
    "            char_code = ord(char) - ord('a')\n",
    "            \n",
    "            # Áp dụng dịch chuyển\n",
    "            char_code = (char_code + shift) % 26\n",
    "            \n",
    "            # Chuyển lại thành ký tự và giữ nguyên chữ hoa nếu cần\n",
    "            char_code += ord('a')\n",
    "            if is_upper:\n",
    "                char_code -= 32  # Chuyển thành chữ hoa nếu ký tự gốc là chữ hoa\n",
    "            \n",
    "            encrypted_text += chr(char_code)\n",
    "        else:\n",
    "            # Giữ nguyên ký tự không phải chữ cái\n",
    "            encrypted_text += char\n",
    "\n",
    "    return encrypted_text\n",
    "\n",
    "def caesar_decipher(text, shift):\n",
    "    # Sử dụng hàm mã hóa với số dịch chuyển âm để giải mã\n",
    "    return caesar_cipher(text, -shift)\n",
    "\n",
    "# Ví dụ mã hóa\n",
    "plaintext = \"Hello, World!\"\n",
    "shift_amount = 3\n",
    "encrypted_text = caesar_cipher(plaintext, shift_amount)\n",
    "print(\"Mã hóa:\", encrypted_text)\n",
    "\n",
    "# Ví dụ giải mã\n",
    "decrypted_text = caesar_decipher(encrypted_text, shift_amount)\n",
    "print(\"Giải mã:\", decrypted_text)\n"
   ]
  },
  {
   "cell_type": "code",
   "execution_count": 3,
   "metadata": {},
   "outputs": [
    {
     "name": "stdout",
     "output_type": "stream",
     "text": [
      "Mã hóa: Rijvs, Ambpb!\n",
      "Giải mã: Hello, World!\n"
     ]
    }
   ],
   "source": [
    "def vigenere_cipher(text, key):\n",
    "    encrypted_text = \"\"\n",
    "    key_length = len(key)\n",
    "    for i in range(len(text)):\n",
    "        char = text[i]\n",
    "        if char.isalpha():\n",
    "            is_upper = char.isupper()\n",
    "            char = char.lower()\n",
    "            key_char = key[i % key_length].lower()\n",
    "            \n",
    "            # Xác định sự dịch chuyển cần thiết\n",
    "            shift = ord(key_char) - ord('a')\n",
    "            char_code = ord(char) + shift\n",
    "            \n",
    "            # Đảm bảo char_code nằm trong khoảng chữ cái a-z\n",
    "            if char.islower() and char_code > ord('z'):\n",
    "                char_code -= 26\n",
    "            elif char.isupper() and char_code > ord('Z'):\n",
    "                char_code -= 26\n",
    "            \n",
    "            encrypted_text += chr(char_code).upper() if is_upper else chr(char_code)\n",
    "        else:\n",
    "            encrypted_text += char\n",
    "\n",
    "    return encrypted_text\n",
    "\n",
    "def vigenere_decipher(text, key):\n",
    "    decrypted_text = \"\"\n",
    "    key_length = len(key)\n",
    "    for i in range(len(text)):\n",
    "        char = text[i]\n",
    "        if char.isalpha():\n",
    "            is_upper = char.isupper()\n",
    "            char = char.lower()\n",
    "            key_char = key[i % key_length].lower()\n",
    "            \n",
    "            # Xác định sự dịch chuyển cần thiết\n",
    "            shift = ord(key_char) - ord('a')\n",
    "            char_code = ord(char) - shift\n",
    "            \n",
    "            # Đảm bảo char_code nằm trong khoảng chữ cái a-z\n",
    "            if char.islower() and char_code < ord('a'):\n",
    "                char_code += 26\n",
    "            elif char.isupper() and char_code < ord('A'):\n",
    "                char_code += 26\n",
    "            \n",
    "            decrypted_text += chr(char_code).upper() if is_upper else chr(char_code)\n",
    "        else:\n",
    "            decrypted_text += char\n",
    "\n",
    "    return decrypted_text\n",
    "\n",
    "# Ví dụ mã hóa và giải mã\n",
    "plaintext = \"Hello, World!\"\n",
    "key = \"KEY\"\n",
    "encrypted_text = vigenere_cipher(plaintext, key)\n",
    "print(\"Mã hóa:\", encrypted_text)\n",
    "\n",
    "decrypted_text = vigenere_decipher(encrypted_text, key)\n",
    "print(\"Giải mã:\", decrypted_text)\n"
   ]
  }
 ],
 "metadata": {
  "kernelspec": {
   "display_name": "base",
   "language": "python",
   "name": "python3"
  },
  "language_info": {
   "codemirror_mode": {
    "name": "ipython",
    "version": 3
   },
   "file_extension": ".py",
   "mimetype": "text/x-python",
   "name": "python",
   "nbconvert_exporter": "python",
   "pygments_lexer": "ipython3",
   "version": "3.10.9"
  },
  "orig_nbformat": 4
 },
 "nbformat": 4,
 "nbformat_minor": 2
}
